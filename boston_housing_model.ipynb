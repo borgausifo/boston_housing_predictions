{
 "cells": [
  {
   "cell_type": "markdown",
   "metadata": {},
   "source": [
    "## Predicting Boston Housing \n",
    "\n",
    "The dataset for this project originates from [UCI Machine Learning Repository] (https://archive.ics.uci.edu/ml/datasets/Housing). The Boston housing data was collected in 1978 and each of the 506 entries represent aggregated data about 14 feature for homes from various suburbs in Boston, Massachusettes. For the purpose of this project, the following preprocessing steps have been made to the dataset. \n",
    "\n",
    "* 16 data points have an 'MEDV' value of 50.0. These data points likely contain missing or censored values and have been removed.\n",
    "* 1 data point has an 'RM' value of 8.78. This data point can be considered an outlier and has been removed.\n",
    "* The features 'RM', 'LSTAT', 'PTRATIO', and 'MEDV' are essential. The remaining non-relevant features have been excluded.\n",
    "* The feature 'MEDV' has been multiplicatively scaled to account for 35 years of market inflation."
   ]
  },
  {
   "cell_type": "code",
   "execution_count": 20,
   "metadata": {
    "collapsed": true
   },
   "outputs": [],
   "source": [
    " # Importing required Libraries for the project \n",
    "\n",
    "import numpy as np\n",
    "import pandas as pd\n",
    "from sklearn.cross_validation import ShuffleSplit\n",
    "\n",
    "# Importing supplementary visualisations code \n",
    "\n",
    "import visuals as vs\n",
    "\n",
    "# Pretty display for notebook\n",
    "\n",
    "%matplotlib inline"
   ]
  },
  {
   "cell_type": "code",
   "execution_count": 21,
   "metadata": {},
   "outputs": [
    {
     "name": "stdout",
     "output_type": "stream",
     "text": [
      "      RM  LSTAT  PTRATIO      MEDV\n",
      "0  6.575   4.98     15.3  504000.0\n",
      "1  6.421   9.14     17.8  453600.0\n",
      "2  7.185   4.03     17.8  728700.0\n",
      "3  6.998   2.94     18.7  701400.0\n",
      "4  7.147   5.33     18.7  760200.0\n",
      "Boston housing dataset has 489 data points with 4 variables each.\n"
     ]
    }
   ],
   "source": [
    "# Loadin Boston Housing Data\n",
    "\n",
    "data = pd.read_csv('housing.csv')\n",
    "print(data.head())\n",
    "prices = data['MEDV']\n",
    "features = data.drop('MEDV', axis = 1)\n",
    "\n",
    "print \"Boston housing dataset has {} data points with {} variables each.\".format(*data.shape)\n"
   ]
  },
  {
   "cell_type": "markdown",
   "metadata": {},
   "source": [
    "## Data Exploration\n",
    "\n",
    "Making a cursory investigation about the Boston housing data and providing observations. I will first start with the statistics of the data set in order the get more comfortable and learn from the data. "
   ]
  },
  {
   "cell_type": "code",
   "execution_count": 22,
   "metadata": {},
   "outputs": [
    {
     "name": "stdout",
     "output_type": "stream",
     "text": [
      "Statistics for the Boston Housing Dataset\n",
      "Minimum price: $105,000.00\n",
      "Maximum price: $1,024,800.00\n",
      "Mean price: $454,342.94\n",
      "Median price: $438,900.00\n",
      "Standard Deviation of prices: $165,340.28\n"
     ]
    }
   ],
   "source": [
    "# Minimum price of the data \n",
    "minimum_price = data['MEDV'].min(0)\n",
    "\n",
    "# Maximum prive of the data\n",
    "maximum_price = data['MEDV'].max()\n",
    "\n",
    "# Mean Price of the data \n",
    "mean_price = data['MEDV'].mean()\n",
    "\n",
    "# Median price of the data\n",
    "median_price = data['MEDV'].median()\n",
    "\n",
    "# Standard deviation of prices of the data \n",
    "std_price = data['MEDV'].std()\n",
    "\n",
    "print 'Statistics for the Boston Housing Dataset'\n",
    "print 'Minimum price: ${:,.2f}'.format(minimum_price)\n",
    "print 'Maximum price: ${:,.2f}'.format(maximum_price)\n",
    "print 'Mean price: ${:,.2f}'.format(mean_price)\n",
    "print 'Median price: ${:,.2f}'.format(median_price)\n",
    "print 'Standard Deviation of prices: ${:,.2f}'.format(std_price)\n",
    "\n",
    "# We could have get the same statistics outcome by using pythons .decscribe() argumennt. \n",
    "\n"
   ]
  },
  {
   "cell_type": "markdown",
   "metadata": {},
   "source": [
    "## Some Observatoins \n",
    "\n",
    "I will use some basic scatterplot to see any relationship in variables. \n",
    "\n"
   ]
  },
  {
   "cell_type": "code",
   "execution_count": 23,
   "metadata": {},
   "outputs": [
    {
     "data": {
      "text/html": [
       "<iframe id=\"igraph\" scrolling=\"no\" style=\"border:none;\" seamless=\"seamless\" src=\"https://plot.ly/~borgausifo/2.embed\" height=\"525px\" width=\"100%\"></iframe>"
      ],
      "text/plain": [
       "<plotly.tools.PlotlyDisplay object>"
      ]
     },
     "execution_count": 23,
     "metadata": {},
     "output_type": "execute_result"
    }
   ],
   "source": [
    "# Importing plotly for creating scatterplots \n",
    "import plotly\n",
    "import plotly.plotly as py\n",
    "import plotly.graph_objs as go\n",
    "plotly.tools.set_credentials_file(username='borgausifo', api_key='nMiM4QfnSUGXd9VegD6L')\n",
    "\n",
    "# Create Trace\n",
    "\n",
    "trace_1 = go.Scatter(x = data['RM'], y = data['MEDV'], mode = 'markers')\n",
    "data_2 = [trace]\n",
    "\n",
    "# Plot and embed in ipython notebook!\n",
    "\n",
    "py.iplot(data_2, filename='basic-scatter_RM')\n",
    "\n"
   ]
  },
  {
   "cell_type": "markdown",
   "metadata": {},
   "source": [
    "Above graph shows us there is some positive relationship between home prices and average number of homes!!! "
   ]
  },
  {
   "cell_type": "code",
   "execution_count": 24,
   "metadata": {},
   "outputs": [
    {
     "data": {
      "text/html": [
       "<iframe id=\"igraph\" scrolling=\"no\" style=\"border:none;\" seamless=\"seamless\" src=\"https://plot.ly/~borgausifo/4.embed\" height=\"525px\" width=\"100%\"></iframe>"
      ],
      "text/plain": [
       "<plotly.tools.PlotlyDisplay object>"
      ]
     },
     "execution_count": 24,
     "metadata": {},
     "output_type": "execute_result"
    }
   ],
   "source": [
    "trace_2 = go.Scatter(x = data['LSTAT'], y = data['MEDV'], mode = 'markers')\n",
    "data_3 = [trace_2]\n",
    "py.iplot(data_3, filename='basic-scatter_LSTAT')"
   ]
  },
  {
   "cell_type": "markdown",
   "metadata": {},
   "source": [
    "Above Graph shows us there is negative relationship between home prices and neioghborhood !!! "
   ]
  },
  {
   "cell_type": "code",
   "execution_count": 25,
   "metadata": {},
   "outputs": [
    {
     "data": {
      "text/html": [
       "<iframe id=\"igraph\" scrolling=\"no\" style=\"border:none;\" seamless=\"seamless\" src=\"https://plot.ly/~borgausifo/6.embed\" height=\"525px\" width=\"100%\"></iframe>"
      ],
      "text/plain": [
       "<plotly.tools.PlotlyDisplay object>"
      ]
     },
     "execution_count": 25,
     "metadata": {},
     "output_type": "execute_result"
    }
   ],
   "source": [
    "trace_3 = go.Scatter(x = data['PTRATIO'], y = data['MEDV'], mode = 'markers')\n",
    "data_4 = [trace_3]\n",
    "py.iplot(data_4, filename='basic-scatter_PTRATIO')"
   ]
  },
  {
   "cell_type": "markdown",
   "metadata": {},
   "source": [
    "It is hard to tell any relationship between home prices and ratio of students to teacher in primary and secondary schools inn the neighborhood. "
   ]
  },
  {
   "cell_type": "markdown",
   "metadata": {},
   "source": [
    "## Developing a Model \n",
    "\n",
    "In this section I will develop tool and techniques necessary for a model to make predictions. \n",
    "\n",
    "#### Implementation : Defining a Performance Metric\n",
    "\n",
    "I will be calculating the [coefficient of determination](http://stattrek.com/statistics/dictionary.aspx?definition=coefficient_of_determination) R2, to quantify model's performance. It's a useful statistic in regression analysis, as it often describe how 'good' that model is at making predictions. \n",
    "\n",
    "* R2 score of 0 means that the dependent variable cannot be predicted from the independent variable.\n",
    "* R2 score of 1 means the dependent variable can be predicted from the independent variable.\n",
    "* R2 score between 0 and 1 indicates the extent to which the dependent variable is predictable. An\n",
    "* R2 score of 0.40 means that 40 percent of the variance in Y is predictable from X.\n",
    "\n",
    "\n"
   ]
  },
  {
   "cell_type": "code",
   "execution_count": 26,
   "metadata": {
    "collapsed": true
   },
   "outputs": [],
   "source": [
    "from sklearn.metrics import r2_score\n",
    "\n",
    "def performance_metric(y_true, y_predict):\n",
    "    score = r2_score(y_true, y_predict)\n",
    "    return score\n",
    "\n"
   ]
  },
  {
   "cell_type": "code",
   "execution_count": 27,
   "metadata": {},
   "outputs": [
    {
     "name": "stdout",
     "output_type": "stream",
     "text": [
      "Model has a coefficient of determination, R^2, of 0.923.\n"
     ]
    }
   ],
   "source": [
    "score = performance_metric([3, -0.5, 2, 7, 4.2], [2.5, 0.0, 2.1, 7.8, 5.3])\n",
    "print \"Model has a coefficient of determination, R^2, of {:.3f}.\".format(score)"
   ]
  },
  {
   "cell_type": "markdown",
   "metadata": {},
   "source": [
    "### Implementation: Shuffle and Split Data \n",
    "\n",
    "I will be splitting the data into training and testing subsets. Also i will shuffle the dataset to remove any biasing in the ordering of the dataset. \n"
   ]
  },
  {
   "cell_type": "code",
   "execution_count": 28,
   "metadata": {},
   "outputs": [
    {
     "name": "stdout",
     "output_type": "stream",
     "text": [
      "Training and testing split was successful\n"
     ]
    }
   ],
   "source": [
    "# Importing sklearn train_test_split for shuffle and split \n",
    "\n",
    "from sklearn.cross_validation import train_test_split\n",
    "\n",
    "X_train, X_test, y_train, y_test = train_test_split(features, prices, test_size = 0.20, random_state = 6)\n",
    "\n",
    "print \"Training and testing split was successful\" \n"
   ]
  },
  {
   "cell_type": "markdown",
   "metadata": {},
   "source": [
    "## Analyzing Model Performance \n",
    "\n",
    "### Learning Curves "
   ]
  },
  {
   "cell_type": "code",
   "execution_count": 29,
   "metadata": {},
   "outputs": [
    {
     "data": {
      "image/png": "[encoded data removed]",
      "text/plain": [
       "<matplotlib.figure.Figure at 0x112de4f50>"
      ]
     },
     "metadata": {},
     "output_type": "display_data"
    }
   ],
   "source": [
    "# Producing Learning Curve \n",
    "\n",
    "vs.ModelLearning(features, prices)"
   ]
  },
  {
   "cell_type": "markdown",
   "metadata": {},
   "source": [
    "I'd choose max_depth = 3 \n",
    "\n",
    "#### Training Data Vs Testing Data\n",
    "\n",
    "As we can see that we are doing really good job with training data when we have small size of data points when we introduce new data points we can see that our error is increasing but at the same time our testing error is decreasing. \n",
    "\n",
    "#### More Data \n",
    "\n",
    "We can see that adding more that will not gonna have any effect on testing and training data."
   ]
  },
  {
   "cell_type": "markdown",
   "metadata": {},
   "source": [
    "##  Complexity Curve Performance \n",
    "\n",
    "The graph produces two complexity curves — one for training and one for validation. Similar to the learning curves, the shaded regions of both the complexity curves denote the uncertainty in those curves, and the model is scored on both the training and validation sets using the performance_metric function "
   ]
  },
  {
   "cell_type": "code",
   "execution_count": 30,
   "metadata": {},
   "outputs": [
    {
     "data": {
      "image/png": "[encoded data removed]",
      "text/plain": [
       "<matplotlib.figure.Figure at 0x112ea4ad0>"
      ]
     },
     "metadata": {},
     "output_type": "display_data"
    }
   ],
   "source": [
    "# Creating Complexity Curves \n",
    "\n",
    "vs.ModelComplexity(X_train, y_train)"
   ]
  },
  {
   "cell_type": "markdown",
   "metadata": {
    "collapsed": true
   },
   "source": [
    "* As we can see that our model suffers from high variance when we have depth size of 1 and it suffers from high bias when our depth goes to 10 and more. Because our model seems to be overfits the data and/or memorizes the data when the depth is increasing. Our best depth is around 3. "
   ]
  },
  {
   "cell_type": "markdown",
   "metadata": {},
   "source": [
    "## Implementation of Fitting the Model\n"
   ]
  },
  {
   "cell_type": "code",
   "execution_count": 31,
   "metadata": {
    "collapsed": true
   },
   "outputs": [],
   "source": [
    "# Importing required tools!!!\n",
    "\n",
    "from sklearn.metrics import make_scorer\n",
    "from sklearn.tree import DecisionTreeRegressor\n",
    "from sklearn.grid_search import GridSearchCV\n",
    "\n",
    "def fit_model(X, y):\n",
    "    \"\"\" Performs grid search over the 'max_depth' parameter for a \n",
    "        decision tree regressor trained on the input data [X, y]. \"\"\"\n",
    "    # Create cross-validation sets from the training data\n",
    "    \n",
    "    cv_sets = ShuffleSplit(X.shape[0], n_iter = 10, test_size = 0.20, random_state = 0)\n",
    "\n",
    "    \n",
    "    # Creating a decision tree regressor object \n",
    "    \n",
    "    regressor = DecisionTreeRegressor()\n",
    "    \n",
    "    # Creating a dictionary for the parameters 'max_depth' with a range 1 to 10\n",
    "    \n",
    "    params = {'max_depth':list(range(1, 11))}\n",
    "    \n",
    "    # Transforming 'performance_metric' into scoring funcgion using 'make_scorer'\n",
    "    \n",
    "    scoring_func = make_scorer(performance_metric)\n",
    "    \n",
    "    # Create a Grid search object\n",
    "    \n",
    "    grid = GridSearchCV(regressor, params, scoring = scoring_func, cv = cv_sets)\n",
    "    \n",
    "    # FIt the grid search object to the data to compute the optimal model \n",
    "    \n",
    "    grid = grid.fit(X, y)\n",
    "    \n",
    "    # Return the optimal model after fitting the data\n",
    "    \n",
    "    return grid.best_estimator_ \n",
    "\n"
   ]
  },
  {
   "cell_type": "code",
   "execution_count": 32,
   "metadata": {},
   "outputs": [
    {
     "name": "stdout",
     "output_type": "stream",
     "text": [
      "Paramater max_depth is 4 for the optimal model\n"
     ]
    }
   ],
   "source": [
    "# Fit the training data to the model using grid search \n",
    "\n",
    "reg = fit_model(X_train, y_train)\n",
    "\n",
    "# Producing the value of max_depth \n",
    "\n",
    "print 'Paramater max_depth is {} for the optimal model'.format(reg.get_params()['max_depth'])"
   ]
  },
  {
   "cell_type": "markdown",
   "metadata": {},
   "source": [
    "### Question 10 - Predicting Selling Prices\n",
    "Imagine that you were a real estate agent in the Boston area looking to use this model to help price homes owned by your clients that they wish to sell. You have collected the following information from three of your clients:\n",
    "\n",
    "| Feature | Client 1 | Client 2 | Client 3 |\n",
    "| :---: | :---: | :---: | :---: |\n",
    "| Total number of rooms in home | 5 rooms | 4 rooms | 8 rooms |\n",
    "| Neighborhood poverty level (as %) | 17% | 32% | 3% |\n",
    "| Student-teacher ratio of nearby schools | 15-to-1 | 22-to-1 | 12-to-1 |\n",
    "\n",
    "* What price would you recommend each client sell his/her home at? \n",
    "* Do these prices seem reasonable given the values for the respective features? "
   ]
  },
  {
   "cell_type": "code",
   "execution_count": 33,
   "metadata": {},
   "outputs": [
    {
     "name": "stdout",
     "output_type": "stream",
     "text": [
      "Predicted selling price for Client 1's home: $399,663.16\n",
      "Predicted selling price for Client 2's home: $238,132.08\n",
      "Predicted selling price for Client 3's home: $896,962.50\n"
     ]
    }
   ],
   "source": [
    "# Produce a matrix for client data\n",
    "client_data = [[5, 17, 15], # Client 1\n",
    "               [4, 32, 22], # Client 2\n",
    "               [8, 3, 12]]  # Client 3\n",
    "\n",
    "# Show predictions\n",
    "for i, price in enumerate(reg.predict(client_data)):\n",
    "    print \"Predicted selling price for Client {}'s home: ${:,.2f}\".format(i+1, price)"
   ]
  },
  {
   "cell_type": "code",
   "execution_count": 44,
   "metadata": {},
   "outputs": [
    {
     "name": "stdout",
     "output_type": "stream",
     "text": [
      "This is the format of your plot grid:\n",
      "[ (1,1) x1,y1 ]  [ (1,2) x2,y2 ]\n",
      "\n"
     ]
    },
    {
     "data": {
      "text/html": [
       "<iframe id=\"igraph\" scrolling=\"no\" style=\"border:none;\" seamless=\"seamless\" src=\"https://plot.ly/~borgausifo/8.embed\" height=\"600px\" width=\"600px\"></iframe>"
      ],
      "text/plain": [
       "<plotly.tools.PlotlyDisplay object>"
      ]
     },
     "execution_count": 44,
     "metadata": {},
     "output_type": "execute_result"
    }
   ],
   "source": [
    "from plotly import tools\n",
    "\n",
    "fig = tools.make_subplots(rows=1, cols=2)\n",
    "\n",
    "fig.append_trace(trace_1, 1, 1)\n",
    "fig.append_trace(trace_2, 1, 2)\n",
    "fig['layout'].update(height=600, width=600, title='Subplots')\n",
    "py.iplot(fig, filename='simple-subplot')\n"
   ]
  },
  {
   "cell_type": "markdown",
   "metadata": {
    "collapsed": true
   },
   "source": [
    "##### Price Recommendations for clients \n",
    "* For the Client 1 - 399,663.16\n",
    "* For the Client 2 - 238,132.08\n",
    "* For the Client 3 - 896,962.50\n",
    "\n",
    "##### Statistical Exploration Prices \n",
    "* Min : 105,000\n",
    "* Max : 1,024,800.00\n",
    "* Mean : 454,342.94\n",
    "* Median : 438,900.00\n",
    "* Standard Deviation : 165,340.28\n",
    "\n",
    "\n",
    "###### For the Client 1 (399,663.00):\n",
    "As we can see from our data exploration our room numbers has positive effect on home prices and class ratio has negative effect on home prices. Our predicted price seems to reasonable as we can see from our data exploration it falls into the area of 5 bedroom home prices. \n",
    "\n",
    "\n",
    "###### For the Client 2 (238,132.08):\n",
    "\n",
    "This price still the reasonable. It is little more than one standard deviation below the mean. This home should be the lowest priced because it is smallest number of rooms, it in bottom 45 %, and it has ratio on studen t the teacher. So our predictions reflects a okay value. \n",
    "\n",
    "\n",
    "###### For the Client 3 (896,962.50): \n",
    "\n",
    "This home has the most rooms, located in best neighboorhood, and student the teacher ratio is also the lowest. It should have the highest value as our model reflects it is little lower than the maximum value in home prices. \n",
    "\n",
    "\n",
    "\n",
    "\n",
    "\n"
   ]
  },
  {
   "cell_type": "markdown",
   "metadata": {},
   "source": [
    "###  Sensitivity "
   ]
  },
  {
   "cell_type": "code",
   "execution_count": 46,
   "metadata": {},
   "outputs": [
    {
     "name": "stdout",
     "output_type": "stream",
     "text": [
      "Trial 1: $391,183.33\n",
      "Trial 2: $419,700.00\n",
      "Trial 3: $415,800.00\n",
      "Trial 4: $420,622.22\n",
      "Trial 5: $418,377.27\n",
      "Trial 6: $411,931.58\n",
      "Trial 7: $399,663.16\n",
      "Trial 8: $407,232.00\n",
      "Trial 9: $351,577.61\n",
      "Trial 10: $413,700.00\n",
      "\n",
      "Range in prices: $69,044.61\n"
     ]
    }
   ],
   "source": [
    "vs.PredictTrials(features, prices, fit_model, client_data)"
   ]
  },
  {
   "cell_type": "markdown",
   "metadata": {},
   "source": [
    " "
   ]
  },
  {
   "cell_type": "code",
   "execution_count": null,
   "metadata": {
    "collapsed": true
   },
   "outputs": [],
   "source": []
  }
 ],
 "metadata": {
  "kernelspec": {
   "display_name": "Python 2",
   "language": "python",
   "name": "python2"
  },
  "language_info": {
   "codemirror_mode": {
    "name": "ipython",
    "version": 2
   },
   "file_extension": ".py",
   "mimetype": "text/x-python",
   "name": "python",
   "nbconvert_exporter": "python",
   "pygments_lexer": "ipython2",
   "version": "2.7.13"
  }
 },
 "nbformat": 4,
 "nbformat_minor": 2
}
